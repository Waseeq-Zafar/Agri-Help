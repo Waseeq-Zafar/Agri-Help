{
 "cells": [
  {
   "cell_type": "code",
   "execution_count": 1,
   "metadata": {},
   "outputs": [],
   "source": [
    "# Importing libraries\n",
    "\n",
    "from __future__ import print_function\n",
    "import pandas as pd\n",
    "import numpy as np\n",
    "import matplotlib.pyplot as plt\n",
    "import seaborn as sns\n",
    "from sklearn.metrics import classification_report\n",
    "from sklearn import metrics\n",
    "from sklearn import tree\n",
    "import warnings\n",
    "warnings.filterwarnings('ignore')"
   ]
  },
  {
   "cell_type": "code",
   "execution_count": null,
   "metadata": {},
   "outputs": [],
   "source": [
    "df = pd.read_csv(r'../Dataset/crop_recommendation.csv')"
   ]
  },
  {
   "cell_type": "code",
   "execution_count": 8,
   "metadata": {},
   "outputs": [
    {
     "data": {
      "text/html": [
       "<div>\n",
       "<style scoped>\n",
       "    .dataframe tbody tr th:only-of-type {\n",
       "        vertical-align: middle;\n",
       "    }\n",
       "\n",
       "    .dataframe tbody tr th {\n",
       "        vertical-align: top;\n",
       "    }\n",
       "\n",
       "    .dataframe thead th {\n",
       "        text-align: right;\n",
       "    }\n",
       "</style>\n",
       "<table border=\"1\" class=\"dataframe\">\n",
       "  <thead>\n",
       "    <tr style=\"text-align: right;\">\n",
       "      <th></th>\n",
       "      <th>N</th>\n",
       "      <th>P</th>\n",
       "      <th>K</th>\n",
       "      <th>temperature</th>\n",
       "      <th>humidity</th>\n",
       "      <th>ph</th>\n",
       "      <th>rainfall</th>\n",
       "      <th>label</th>\n",
       "    </tr>\n",
       "  </thead>\n",
       "  <tbody>\n",
       "    <tr>\n",
       "      <th>0</th>\n",
       "      <td>90</td>\n",
       "      <td>42</td>\n",
       "      <td>43</td>\n",
       "      <td>20.879744</td>\n",
       "      <td>82.002744</td>\n",
       "      <td>6.502985</td>\n",
       "      <td>202.935536</td>\n",
       "      <td>rice</td>\n",
       "    </tr>\n",
       "    <tr>\n",
       "      <th>1</th>\n",
       "      <td>85</td>\n",
       "      <td>58</td>\n",
       "      <td>41</td>\n",
       "      <td>21.770462</td>\n",
       "      <td>80.319644</td>\n",
       "      <td>7.038096</td>\n",
       "      <td>226.655537</td>\n",
       "      <td>rice</td>\n",
       "    </tr>\n",
       "    <tr>\n",
       "      <th>2</th>\n",
       "      <td>60</td>\n",
       "      <td>55</td>\n",
       "      <td>44</td>\n",
       "      <td>23.004459</td>\n",
       "      <td>82.320763</td>\n",
       "      <td>7.840207</td>\n",
       "      <td>263.964248</td>\n",
       "      <td>rice</td>\n",
       "    </tr>\n",
       "    <tr>\n",
       "      <th>3</th>\n",
       "      <td>74</td>\n",
       "      <td>35</td>\n",
       "      <td>40</td>\n",
       "      <td>26.491096</td>\n",
       "      <td>80.158363</td>\n",
       "      <td>6.980401</td>\n",
       "      <td>242.864034</td>\n",
       "      <td>rice</td>\n",
       "    </tr>\n",
       "    <tr>\n",
       "      <th>4</th>\n",
       "      <td>78</td>\n",
       "      <td>42</td>\n",
       "      <td>42</td>\n",
       "      <td>20.130175</td>\n",
       "      <td>81.604873</td>\n",
       "      <td>7.628473</td>\n",
       "      <td>262.717340</td>\n",
       "      <td>rice</td>\n",
       "    </tr>\n",
       "  </tbody>\n",
       "</table>\n",
       "</div>"
      ],
      "text/plain": [
       "    N   P   K  temperature   humidity        ph    rainfall label\n",
       "0  90  42  43    20.879744  82.002744  6.502985  202.935536  rice\n",
       "1  85  58  41    21.770462  80.319644  7.038096  226.655537  rice\n",
       "2  60  55  44    23.004459  82.320763  7.840207  263.964248  rice\n",
       "3  74  35  40    26.491096  80.158363  6.980401  242.864034  rice\n",
       "4  78  42  42    20.130175  81.604873  7.628473  262.717340  rice"
      ]
     },
     "execution_count": 8,
     "metadata": {},
     "output_type": "execute_result"
    }
   ],
   "source": [
    "df.head()"
   ]
  },
  {
   "cell_type": "code",
   "execution_count": 9,
   "metadata": {},
   "outputs": [
    {
     "data": {
      "text/html": [
       "<div>\n",
       "<style scoped>\n",
       "    .dataframe tbody tr th:only-of-type {\n",
       "        vertical-align: middle;\n",
       "    }\n",
       "\n",
       "    .dataframe tbody tr th {\n",
       "        vertical-align: top;\n",
       "    }\n",
       "\n",
       "    .dataframe thead th {\n",
       "        text-align: right;\n",
       "    }\n",
       "</style>\n",
       "<table border=\"1\" class=\"dataframe\">\n",
       "  <thead>\n",
       "    <tr style=\"text-align: right;\">\n",
       "      <th></th>\n",
       "      <th>N</th>\n",
       "      <th>P</th>\n",
       "      <th>K</th>\n",
       "      <th>temperature</th>\n",
       "      <th>humidity</th>\n",
       "      <th>ph</th>\n",
       "      <th>rainfall</th>\n",
       "      <th>label</th>\n",
       "    </tr>\n",
       "  </thead>\n",
       "  <tbody>\n",
       "    <tr>\n",
       "      <th>2195</th>\n",
       "      <td>107</td>\n",
       "      <td>34</td>\n",
       "      <td>32</td>\n",
       "      <td>26.774637</td>\n",
       "      <td>66.413269</td>\n",
       "      <td>6.780064</td>\n",
       "      <td>177.774507</td>\n",
       "      <td>coffee</td>\n",
       "    </tr>\n",
       "    <tr>\n",
       "      <th>2196</th>\n",
       "      <td>99</td>\n",
       "      <td>15</td>\n",
       "      <td>27</td>\n",
       "      <td>27.417112</td>\n",
       "      <td>56.636362</td>\n",
       "      <td>6.086922</td>\n",
       "      <td>127.924610</td>\n",
       "      <td>coffee</td>\n",
       "    </tr>\n",
       "    <tr>\n",
       "      <th>2197</th>\n",
       "      <td>118</td>\n",
       "      <td>33</td>\n",
       "      <td>30</td>\n",
       "      <td>24.131797</td>\n",
       "      <td>67.225123</td>\n",
       "      <td>6.362608</td>\n",
       "      <td>173.322839</td>\n",
       "      <td>coffee</td>\n",
       "    </tr>\n",
       "    <tr>\n",
       "      <th>2198</th>\n",
       "      <td>117</td>\n",
       "      <td>32</td>\n",
       "      <td>34</td>\n",
       "      <td>26.272418</td>\n",
       "      <td>52.127394</td>\n",
       "      <td>6.758793</td>\n",
       "      <td>127.175293</td>\n",
       "      <td>coffee</td>\n",
       "    </tr>\n",
       "    <tr>\n",
       "      <th>2199</th>\n",
       "      <td>104</td>\n",
       "      <td>18</td>\n",
       "      <td>30</td>\n",
       "      <td>23.603016</td>\n",
       "      <td>60.396475</td>\n",
       "      <td>6.779833</td>\n",
       "      <td>140.937041</td>\n",
       "      <td>coffee</td>\n",
       "    </tr>\n",
       "  </tbody>\n",
       "</table>\n",
       "</div>"
      ],
      "text/plain": [
       "        N   P   K  temperature   humidity        ph    rainfall   label\n",
       "2195  107  34  32    26.774637  66.413269  6.780064  177.774507  coffee\n",
       "2196   99  15  27    27.417112  56.636362  6.086922  127.924610  coffee\n",
       "2197  118  33  30    24.131797  67.225123  6.362608  173.322839  coffee\n",
       "2198  117  32  34    26.272418  52.127394  6.758793  127.175293  coffee\n",
       "2199  104  18  30    23.603016  60.396475  6.779833  140.937041  coffee"
      ]
     },
     "execution_count": 9,
     "metadata": {},
     "output_type": "execute_result"
    }
   ],
   "source": [
    "df.tail()"
   ]
  },
  {
   "cell_type": "code",
   "execution_count": 10,
   "metadata": {},
   "outputs": [
    {
     "data": {
      "text/plain": [
       "17600"
      ]
     },
     "execution_count": 10,
     "metadata": {},
     "output_type": "execute_result"
    }
   ],
   "source": [
    "df.size"
   ]
  },
  {
   "cell_type": "code",
   "execution_count": 11,
   "metadata": {},
   "outputs": [
    {
     "data": {
      "text/plain": [
       "(2200, 8)"
      ]
     },
     "execution_count": 11,
     "metadata": {},
     "output_type": "execute_result"
    }
   ],
   "source": [
    "df.shape"
   ]
  },
  {
   "cell_type": "code",
   "execution_count": 12,
   "metadata": {},
   "outputs": [
    {
     "data": {
      "text/plain": [
       "Index(['N', 'P', 'K', 'temperature', 'humidity', 'ph', 'rainfall', 'label'], dtype='object')"
      ]
     },
     "execution_count": 12,
     "metadata": {},
     "output_type": "execute_result"
    }
   ],
   "source": [
    "df.columns"
   ]
  },
  {
   "cell_type": "code",
   "execution_count": 13,
   "metadata": {},
   "outputs": [
    {
     "data": {
      "text/plain": [
       "array(['rice', 'maize', 'chickpea', 'kidneybeans', 'pigeonpeas',\n",
       "       'mothbeans', 'mungbean', 'blackgram', 'lentil', 'pomegranate',\n",
       "       'banana', 'mango', 'grapes', 'watermelon', 'muskmelon', 'apple',\n",
       "       'orange', 'papaya', 'coconut', 'cotton', 'jute', 'coffee'],\n",
       "      dtype=object)"
      ]
     },
     "execution_count": 13,
     "metadata": {},
     "output_type": "execute_result"
    }
   ],
   "source": [
    "df['label'].unique()"
   ]
  },
  {
   "cell_type": "code",
   "execution_count": 14,
   "metadata": {},
   "outputs": [
    {
     "data": {
      "text/plain": [
       "N                int64\n",
       "P                int64\n",
       "K                int64\n",
       "temperature    float64\n",
       "humidity       float64\n",
       "ph             float64\n",
       "rainfall       float64\n",
       "label           object\n",
       "dtype: object"
      ]
     },
     "execution_count": 14,
     "metadata": {},
     "output_type": "execute_result"
    }
   ],
   "source": [
    "df.dtypes"
   ]
  },
  {
   "cell_type": "code",
   "execution_count": 15,
   "metadata": {},
   "outputs": [
    {
     "data": {
      "text/plain": [
       "label\n",
       "rice           100\n",
       "maize          100\n",
       "jute           100\n",
       "cotton         100\n",
       "coconut        100\n",
       "papaya         100\n",
       "orange         100\n",
       "apple          100\n",
       "muskmelon      100\n",
       "watermelon     100\n",
       "grapes         100\n",
       "mango          100\n",
       "banana         100\n",
       "pomegranate    100\n",
       "lentil         100\n",
       "blackgram      100\n",
       "mungbean       100\n",
       "mothbeans      100\n",
       "pigeonpeas     100\n",
       "kidneybeans    100\n",
       "chickpea       100\n",
       "coffee         100\n",
       "Name: count, dtype: int64"
      ]
     },
     "execution_count": 15,
     "metadata": {},
     "output_type": "execute_result"
    }
   ],
   "source": [
    "df['label'].value_counts()"
   ]
  },
  {
   "cell_type": "code",
   "execution_count": 17,
   "metadata": {},
   "outputs": [
    {
     "data": {
      "text/plain": [
       "<Axes: >"
      ]
     },
     "execution_count": 17,
     "metadata": {},
     "output_type": "execute_result"
    },
    {
     "data": {
      "image/png": "[encoded data removed]",
      "text/plain": [
       "<Figure size 640x480 with 2 Axes>"
      ]
     },
     "metadata": {},
     "output_type": "display_data"
    }
   ],
   "source": [
    "sns.heatmap(df.select_dtypes(include=['number']).corr(), annot=True, cmap=\"coolwarm\")\n"
   ]
  },
  {
   "cell_type": "markdown",
   "metadata": {},
   "source": [
    "### Seperating features and target label"
   ]
  },
  {
   "cell_type": "code",
   "execution_count": 18,
   "metadata": {},
   "outputs": [],
   "source": [
    "features = df[['N', 'P','K','temperature', 'humidity', 'ph', 'rainfall']]\n",
    "target = df['label']\n",
    "#features = df[['temperature', 'humidity', 'ph', 'rainfall']]\n",
    "labels = df['label']"
   ]
  },
  {
   "cell_type": "code",
   "execution_count": 19,
   "metadata": {},
   "outputs": [],
   "source": [
    "# Initialzing empty lists to append all model's name and corresponding name\n",
    "acc = []\n",
    "model = []"
   ]
  },
  {
   "cell_type": "code",
   "execution_count": 20,
   "metadata": {},
   "outputs": [],
   "source": [
    "# Splitting into train and test data\n",
    "\n",
    "from sklearn.model_selection import train_test_split\n",
    "Xtrain, Xtest, Ytrain, Ytest = train_test_split(features,target,test_size = 0.2,random_state =2)"
   ]
  },
  {
   "cell_type": "markdown",
   "metadata": {},
   "source": [
    "# Decision Tree"
   ]
  },
  {
   "cell_type": "code",
   "execution_count": 21,
   "metadata": {},
   "outputs": [
    {
     "name": "stdout",
     "output_type": "stream",
     "text": [
      "DecisionTrees's Accuracy is:  90.0\n",
      "              precision    recall  f1-score   support\n",
      "\n",
      "       apple       1.00      1.00      1.00        13\n",
      "      banana       1.00      1.00      1.00        17\n",
      "   blackgram       0.59      1.00      0.74        16\n",
      "    chickpea       1.00      1.00      1.00        21\n",
      "     coconut       0.91      1.00      0.95        21\n",
      "      coffee       1.00      1.00      1.00        22\n",
      "      cotton       1.00      1.00      1.00        20\n",
      "      grapes       1.00      1.00      1.00        18\n",
      "        jute       0.74      0.93      0.83        28\n",
      " kidneybeans       0.00      0.00      0.00        14\n",
      "      lentil       0.68      1.00      0.81        23\n",
      "       maize       1.00      1.00      1.00        21\n",
      "       mango       1.00      1.00      1.00        26\n",
      "   mothbeans       0.00      0.00      0.00        19\n",
      "    mungbean       1.00      1.00      1.00        24\n",
      "   muskmelon       1.00      1.00      1.00        23\n",
      "      orange       1.00      1.00      1.00        29\n",
      "      papaya       1.00      0.84      0.91        19\n",
      "  pigeonpeas       0.62      1.00      0.77        18\n",
      " pomegranate       1.00      1.00      1.00        17\n",
      "        rice       1.00      0.62      0.77        16\n",
      "  watermelon       1.00      1.00      1.00        15\n",
      "\n",
      "    accuracy                           0.90       440\n",
      "   macro avg       0.84      0.88      0.85       440\n",
      "weighted avg       0.86      0.90      0.87       440\n",
      "\n"
     ]
    }
   ],
   "source": [
    "from sklearn.tree import DecisionTreeClassifier\n",
    "\n",
    "DecisionTree = DecisionTreeClassifier(criterion=\"entropy\",random_state=2,max_depth=5)\n",
    "\n",
    "DecisionTree.fit(Xtrain,Ytrain)\n",
    "\n",
    "predicted_values = DecisionTree.predict(Xtest)\n",
    "x = metrics.accuracy_score(Ytest, predicted_values)\n",
    "acc.append(x)\n",
    "model.append('Decision Tree')\n",
    "print(\"DecisionTrees's Accuracy is: \", x*100)\n",
    "\n",
    "print(classification_report(Ytest,predicted_values))"
   ]
  },
  {
   "cell_type": "code",
   "execution_count": 22,
   "metadata": {},
   "outputs": [],
   "source": [
    "from sklearn.model_selection import cross_val_score"
   ]
  },
  {
   "cell_type": "code",
   "execution_count": 23,
   "metadata": {},
   "outputs": [],
   "source": [
    "# Cross validation score (Decision Tree)\n",
    "score = cross_val_score(DecisionTree, features, target,cv=5)"
   ]
  },
  {
   "cell_type": "code",
   "execution_count": 24,
   "metadata": {},
   "outputs": [
    {
     "data": {
      "text/plain": [
       "array([0.93636364, 0.90909091, 0.91818182, 0.87045455, 0.93636364])"
      ]
     },
     "execution_count": 24,
     "metadata": {},
     "output_type": "execute_result"
    }
   ],
   "source": [
    "score"
   ]
  },
  {
   "cell_type": "markdown",
   "metadata": {},
   "source": [
    "### Saving trained Decision Tree model"
   ]
  },
  {
   "cell_type": "code",
   "execution_count": 26,
   "metadata": {},
   "outputs": [],
   "source": [
    "import pickle\n",
    "# Dump the trained Naive Bayes classifier with Pickle\n",
    "DT_pkl_filename = '../models/DecisionTree.pkl'\n",
    "# Open the file to save as pkl file\n",
    "DT_Model_pkl = open(DT_pkl_filename, 'wb')\n",
    "pickle.dump(DecisionTree, DT_Model_pkl)\n",
    "# Close the pickle instances\n",
    "DT_Model_pkl.close()"
   ]
  },
  {
   "cell_type": "markdown",
   "metadata": {},
   "source": [
    "# Guassian Naive Bayes"
   ]
  },
  {
   "cell_type": "code",
   "execution_count": 27,
   "metadata": {},
   "outputs": [
    {
     "name": "stdout",
     "output_type": "stream",
     "text": [
      "Naive Bayes's Accuracy is:  0.990909090909091\n",
      "              precision    recall  f1-score   support\n",
      "\n",
      "       apple       1.00      1.00      1.00        13\n",
      "      banana       1.00      1.00      1.00        17\n",
      "   blackgram       1.00      1.00      1.00        16\n",
      "    chickpea       1.00      1.00      1.00        21\n",
      "     coconut       1.00      1.00      1.00        21\n",
      "      coffee       1.00      1.00      1.00        22\n",
      "      cotton       1.00      1.00      1.00        20\n",
      "      grapes       1.00      1.00      1.00        18\n",
      "        jute       0.88      1.00      0.93        28\n",
      " kidneybeans       1.00      1.00      1.00        14\n",
      "      lentil       1.00      1.00      1.00        23\n",
      "       maize       1.00      1.00      1.00        21\n",
      "       mango       1.00      1.00      1.00        26\n",
      "   mothbeans       1.00      1.00      1.00        19\n",
      "    mungbean       1.00      1.00      1.00        24\n",
      "   muskmelon       1.00      1.00      1.00        23\n",
      "      orange       1.00      1.00      1.00        29\n",
      "      papaya       1.00      1.00      1.00        19\n",
      "  pigeonpeas       1.00      1.00      1.00        18\n",
      " pomegranate       1.00      1.00      1.00        17\n",
      "        rice       1.00      0.75      0.86        16\n",
      "  watermelon       1.00      1.00      1.00        15\n",
      "\n",
      "    accuracy                           0.99       440\n",
      "   macro avg       0.99      0.99      0.99       440\n",
      "weighted avg       0.99      0.99      0.99       440\n",
      "\n"
     ]
    }
   ],
   "source": [
    "from sklearn.naive_bayes import GaussianNB\n",
    "\n",
    "NaiveBayes = GaussianNB()\n",
    "\n",
    "NaiveBayes.fit(Xtrain,Ytrain)\n",
    "\n",
    "predicted_values = NaiveBayes.predict(Xtest)\n",
    "x = metrics.accuracy_score(Ytest, predicted_values)\n",
    "acc.append(x)\n",
    "model.append('Naive Bayes')\n",
    "print(\"Naive Bayes's Accuracy is: \", x)\n",
    "\n",
    "print(classification_report(Ytest,predicted_values))"
   ]
  },
  {
   "cell_type": "code",
   "execution_count": 28,
   "metadata": {},
   "outputs": [
    {
     "data": {
      "text/plain": [
       "array([0.99772727, 0.99545455, 0.99545455, 0.99545455, 0.99090909])"
      ]
     },
     "execution_count": 28,
     "metadata": {},
     "output_type": "execute_result"
    }
   ],
   "source": [
    "# Cross validation score (NaiveBayes)\n",
    "score = cross_val_score(NaiveBayes,features,target,cv=5)\n",
    "score"
   ]
  },
  {
   "cell_type": "markdown",
   "metadata": {},
   "source": [
    "### Saving trained Guassian Naive Bayes model"
   ]
  },
  {
   "cell_type": "code",
   "execution_count": 29,
   "metadata": {},
   "outputs": [],
   "source": [
    "import pickle\n",
    "# Dump the trained Naive Bayes classifier with Pickle\n",
    "NB_pkl_filename = '../models/NBClassifier.pkl'\n",
    "# Open the file to save as pkl file\n",
    "NB_Model_pkl = open(NB_pkl_filename, 'wb')\n",
    "pickle.dump(NaiveBayes, NB_Model_pkl)\n",
    "# Close the pickle instances\n",
    "NB_Model_pkl.close()"
   ]
  },
  {
   "cell_type": "markdown",
   "metadata": {},
   "source": [
    "# Support Vector Machine (SVM)"
   ]
  },
  {
   "cell_type": "code",
   "execution_count": 30,
   "metadata": {},
   "outputs": [
    {
     "name": "stdout",
     "output_type": "stream",
     "text": [
      "SVM's Accuracy is:  0.9795454545454545\n",
      "              precision    recall  f1-score   support\n",
      "\n",
      "       apple       1.00      1.00      1.00        13\n",
      "      banana       1.00      1.00      1.00        17\n",
      "   blackgram       1.00      1.00      1.00        16\n",
      "    chickpea       1.00      1.00      1.00        21\n",
      "     coconut       1.00      1.00      1.00        21\n",
      "      coffee       1.00      0.95      0.98        22\n",
      "      cotton       0.95      1.00      0.98        20\n",
      "      grapes       1.00      1.00      1.00        18\n",
      "        jute       0.83      0.89      0.86        28\n",
      " kidneybeans       1.00      1.00      1.00        14\n",
      "      lentil       1.00      1.00      1.00        23\n",
      "       maize       1.00      0.95      0.98        21\n",
      "       mango       1.00      1.00      1.00        26\n",
      "   mothbeans       1.00      1.00      1.00        19\n",
      "    mungbean       1.00      1.00      1.00        24\n",
      "   muskmelon       1.00      1.00      1.00        23\n",
      "      orange       1.00      1.00      1.00        29\n",
      "      papaya       1.00      1.00      1.00        19\n",
      "  pigeonpeas       1.00      1.00      1.00        18\n",
      " pomegranate       1.00      1.00      1.00        17\n",
      "        rice       0.80      0.75      0.77        16\n",
      "  watermelon       1.00      1.00      1.00        15\n",
      "\n",
      "    accuracy                           0.98       440\n",
      "   macro avg       0.98      0.98      0.98       440\n",
      "weighted avg       0.98      0.98      0.98       440\n",
      "\n"
     ]
    }
   ],
   "source": [
    "from sklearn.svm import SVC\n",
    "# data normalization with sklearn\n",
    "from sklearn.preprocessing import MinMaxScaler\n",
    "# fit scaler on training data\n",
    "norm = MinMaxScaler().fit(Xtrain)\n",
    "X_train_norm = norm.transform(Xtrain)\n",
    "# transform testing dataabs\n",
    "X_test_norm = norm.transform(Xtest)\n",
    "SVM = SVC(kernel='poly', degree=3, C=1)\n",
    "SVM.fit(X_train_norm,Ytrain)\n",
    "predicted_values = SVM.predict(X_test_norm)\n",
    "x = metrics.accuracy_score(Ytest, predicted_values)\n",
    "acc.append(x)\n",
    "model.append('SVM')\n",
    "print(\"SVM's Accuracy is: \", x)\n",
    "\n",
    "print(classification_report(Ytest,predicted_values))"
   ]
  },
  {
   "cell_type": "code",
   "execution_count": 31,
   "metadata": {},
   "outputs": [
    {
     "data": {
      "text/plain": [
       "array([0.97954545, 0.975     , 0.98863636, 0.98863636, 0.98181818])"
      ]
     },
     "execution_count": 31,
     "metadata": {},
     "output_type": "execute_result"
    }
   ],
   "source": [
    "# Cross validation score (SVM)\n",
    "score = cross_val_score(SVM,features,target,cv=5)\n",
    "score"
   ]
  },
  {
   "cell_type": "code",
   "execution_count": 32,
   "metadata": {},
   "outputs": [],
   "source": [
    "#Saving trained SVM model"
   ]
  },
  {
   "cell_type": "code",
   "execution_count": 33,
   "metadata": {},
   "outputs": [],
   "source": [
    "import pickle\n",
    "# Dump the trained SVM classifier with Pickle\n",
    "SVM_pkl_filename = '../models/SVMClassifier.pkl'\n",
    "# Open the file to save as pkl file\n",
    "SVM_Model_pkl = open(SVM_pkl_filename, 'wb')\n",
    "pickle.dump(SVM, SVM_Model_pkl)\n",
    "# Close the pickle instances\n",
    "SVM_Model_pkl.close()"
   ]
  },
  {
   "cell_type": "markdown",
   "metadata": {},
   "source": [
    "# Logistic Regression"
   ]
  },
  {
   "cell_type": "code",
   "execution_count": 34,
   "metadata": {},
   "outputs": [
    {
     "name": "stdout",
     "output_type": "stream",
     "text": [
      "Logistic Regression's Accuracy is:  0.9522727272727273\n",
      "              precision    recall  f1-score   support\n",
      "\n",
      "       apple       1.00      1.00      1.00        13\n",
      "      banana       1.00      1.00      1.00        17\n",
      "   blackgram       0.86      0.75      0.80        16\n",
      "    chickpea       1.00      1.00      1.00        21\n",
      "     coconut       1.00      1.00      1.00        21\n",
      "      coffee       1.00      1.00      1.00        22\n",
      "      cotton       0.86      0.90      0.88        20\n",
      "      grapes       1.00      1.00      1.00        18\n",
      "        jute       0.84      0.93      0.88        28\n",
      " kidneybeans       1.00      1.00      1.00        14\n",
      "      lentil       0.88      1.00      0.94        23\n",
      "       maize       0.90      0.86      0.88        21\n",
      "       mango       0.96      1.00      0.98        26\n",
      "   mothbeans       0.84      0.84      0.84        19\n",
      "    mungbean       1.00      0.96      0.98        24\n",
      "   muskmelon       1.00      1.00      1.00        23\n",
      "      orange       1.00      1.00      1.00        29\n",
      "      papaya       1.00      0.95      0.97        19\n",
      "  pigeonpeas       1.00      1.00      1.00        18\n",
      " pomegranate       1.00      1.00      1.00        17\n",
      "        rice       0.85      0.69      0.76        16\n",
      "  watermelon       1.00      1.00      1.00        15\n",
      "\n",
      "    accuracy                           0.95       440\n",
      "   macro avg       0.95      0.95      0.95       440\n",
      "weighted avg       0.95      0.95      0.95       440\n",
      "\n"
     ]
    }
   ],
   "source": [
    "from sklearn.linear_model import LogisticRegression\n",
    "\n",
    "LogReg = LogisticRegression(random_state=2)\n",
    "\n",
    "LogReg.fit(Xtrain,Ytrain)\n",
    "\n",
    "predicted_values = LogReg.predict(Xtest)\n",
    "\n",
    "x = metrics.accuracy_score(Ytest, predicted_values)\n",
    "acc.append(x)\n",
    "model.append('Logistic Regression')\n",
    "print(\"Logistic Regression's Accuracy is: \", x)\n",
    "\n",
    "print(classification_report(Ytest,predicted_values))"
   ]
  },
  {
   "cell_type": "code",
   "execution_count": 35,
   "metadata": {},
   "outputs": [
    {
     "data": {
      "text/plain": [
       "array([0.95      , 0.96590909, 0.94772727, 0.96818182, 0.94318182])"
      ]
     },
     "execution_count": 35,
     "metadata": {},
     "output_type": "execute_result"
    }
   ],
   "source": [
    "# Cross validation score (Logistic Regression)\n",
    "score = cross_val_score(LogReg,features,target,cv=5)\n",
    "score"
   ]
  },
  {
   "cell_type": "markdown",
   "metadata": {},
   "source": [
    "### Saving trained Logistic Regression model"
   ]
  },
  {
   "cell_type": "code",
   "execution_count": 36,
   "metadata": {},
   "outputs": [],
   "source": [
    "import pickle\n",
    "# Dump the trained Naive Bayes classifier with Pickle\n",
    "LR_pkl_filename = '../models/LogisticRegression.pkl'\n",
    "# Open the file to save as pkl file\n",
    "LR_Model_pkl = open(DT_pkl_filename, 'wb')\n",
    "pickle.dump(LogReg, LR_Model_pkl)\n",
    "# Close the pickle instances\n",
    "LR_Model_pkl.close()"
   ]
  },
  {
   "cell_type": "markdown",
   "metadata": {},
   "source": [
    "# Random Forest"
   ]
  },
  {
   "cell_type": "code",
   "execution_count": 37,
   "metadata": {},
   "outputs": [
    {
     "name": "stdout",
     "output_type": "stream",
     "text": [
      "RF's Accuracy is:  0.990909090909091\n",
      "              precision    recall  f1-score   support\n",
      "\n",
      "       apple       1.00      1.00      1.00        13\n",
      "      banana       1.00      1.00      1.00        17\n",
      "   blackgram       0.94      1.00      0.97        16\n",
      "    chickpea       1.00      1.00      1.00        21\n",
      "     coconut       1.00      1.00      1.00        21\n",
      "      coffee       1.00      1.00      1.00        22\n",
      "      cotton       1.00      1.00      1.00        20\n",
      "      grapes       1.00      1.00      1.00        18\n",
      "        jute       0.90      1.00      0.95        28\n",
      " kidneybeans       1.00      1.00      1.00        14\n",
      "      lentil       1.00      1.00      1.00        23\n",
      "       maize       1.00      1.00      1.00        21\n",
      "       mango       1.00      1.00      1.00        26\n",
      "   mothbeans       1.00      0.95      0.97        19\n",
      "    mungbean       1.00      1.00      1.00        24\n",
      "   muskmelon       1.00      1.00      1.00        23\n",
      "      orange       1.00      1.00      1.00        29\n",
      "      papaya       1.00      1.00      1.00        19\n",
      "  pigeonpeas       1.00      1.00      1.00        18\n",
      " pomegranate       1.00      1.00      1.00        17\n",
      "        rice       1.00      0.81      0.90        16\n",
      "  watermelon       1.00      1.00      1.00        15\n",
      "\n",
      "    accuracy                           0.99       440\n",
      "   macro avg       0.99      0.99      0.99       440\n",
      "weighted avg       0.99      0.99      0.99       440\n",
      "\n"
     ]
    }
   ],
   "source": [
    "from sklearn.ensemble import RandomForestClassifier\n",
    "\n",
    "RF = RandomForestClassifier(n_estimators=20, random_state=0)\n",
    "RF.fit(Xtrain,Ytrain)\n",
    "\n",
    "predicted_values = RF.predict(Xtest)\n",
    "\n",
    "x = metrics.accuracy_score(Ytest, predicted_values)\n",
    "acc.append(x)\n",
    "model.append('RF')\n",
    "print(\"RF's Accuracy is: \", x)\n",
    "\n",
    "print(classification_report(Ytest,predicted_values))"
   ]
  },
  {
   "cell_type": "code",
   "execution_count": 38,
   "metadata": {},
   "outputs": [
    {
     "data": {
      "text/plain": [
       "array([0.99772727, 0.99545455, 0.99772727, 0.99318182, 0.98863636])"
      ]
     },
     "execution_count": 38,
     "metadata": {},
     "output_type": "execute_result"
    }
   ],
   "source": [
    "# Cross validation score (Random Forest)\n",
    "score = cross_val_score(RF,features,target,cv=5)\n",
    "score"
   ]
  },
  {
   "cell_type": "markdown",
   "metadata": {},
   "source": [
    "### Saving trained Random Forest model"
   ]
  },
  {
   "cell_type": "code",
   "execution_count": 39,
   "metadata": {},
   "outputs": [],
   "source": [
    "import pickle\n",
    "# Dump the trained Naive Bayes classifier with Pickle\n",
    "RF_pkl_filename = '../models/RandomForest.pkl'\n",
    "# Open the file to save as pkl file\n",
    "RF_Model_pkl = open(RF_pkl_filename, 'wb')\n",
    "pickle.dump(RF, RF_Model_pkl)\n",
    "# Close the pickle instances\n",
    "RF_Model_pkl.close()"
   ]
  },
  {
   "cell_type": "markdown",
   "metadata": {},
   "source": [
    "# XGBoost"
   ]
  },
  {
   "cell_type": "code",
   "execution_count": 42,
   "metadata": {},
   "outputs": [
    {
     "name": "stdout",
     "output_type": "stream",
     "text": [
      "Collecting xgboost\n",
      "  Downloading xgboost-3.0.3-py3-none-win_amd64.whl.metadata (2.1 kB)\n",
      "Requirement already satisfied: numpy in c:\\users\\anushree\\anaconda3\\lib\\site-packages (from xgboost) (1.26.4)\n",
      "Requirement already satisfied: scipy in c:\\users\\anushree\\anaconda3\\lib\\site-packages (from xgboost) (1.13.1)\n",
      "Downloading xgboost-3.0.3-py3-none-win_amd64.whl (149.9 MB)\n",
      "   ---------------------------------------- 0.0/149.9 MB ? eta -:--:--\n",
      "   ---------------------------------------- 0.0/149.9 MB ? eta -:--:--\n",
      "   ---------------------------------------- 0.3/149.9 MB ? eta -:--:--\n",
      "   ---------------------------------------- 0.8/149.9 MB 2.1 MB/s eta 0:01:12\n",
      "   ---------------------------------------- 0.8/149.9 MB 2.1 MB/s eta 0:01:12\n",
      "   ---------------------------------------- 1.0/149.9 MB 1.4 MB/s eta 0:01:47\n",
      "   ---------------------------------------- 1.6/149.9 MB 1.7 MB/s eta 0:01:29\n",
      "    --------------------------------------- 2.1/149.9 MB 1.8 MB/s eta 0:01:24\n",
      "    --------------------------------------- 2.6/149.9 MB 2.0 MB/s eta 0:01:16\n",
      "    --------------------------------------- 3.1/149.9 MB 1.9 MB/s eta 0:01:17\n",
      "   - -------------------------------------- 3.9/149.9 MB 2.2 MB/s eta 0:01:08\n",
      "   - -------------------------------------- 4.7/149.9 MB 2.3 MB/s eta 0:01:03\n",
      "   - -------------------------------------- 5.8/149.9 MB 2.6 MB/s eta 0:00:57\n",
      "   - -------------------------------------- 7.1/149.9 MB 2.9 MB/s eta 0:00:50\n",
      "   -- ------------------------------------- 7.9/149.9 MB 2.9 MB/s eta 0:00:49\n",
      "   -- ------------------------------------- 8.1/149.9 MB 2.9 MB/s eta 0:00:49\n",
      "   -- ------------------------------------- 8.7/149.9 MB 2.8 MB/s eta 0:00:52\n",
      "   -- ------------------------------------- 8.9/149.9 MB 2.7 MB/s eta 0:00:53\n",
      "   -- ------------------------------------- 8.9/149.9 MB 2.7 MB/s eta 0:00:53\n",
      "   -- ------------------------------------- 9.4/149.9 MB 2.5 MB/s eta 0:00:57\n",
      "   -- ------------------------------------- 10.0/149.9 MB 2.5 MB/s eta 0:00:57\n",
      "   -- ------------------------------------- 10.5/149.9 MB 2.5 MB/s eta 0:00:55\n",
      "   --- ------------------------------------ 11.3/149.9 MB 2.6 MB/s eta 0:00:55\n",
      "   --- ------------------------------------ 12.1/149.9 MB 2.6 MB/s eta 0:00:53\n",
      "   --- ------------------------------------ 12.6/149.9 MB 2.6 MB/s eta 0:00:53\n",
      "   --- ------------------------------------ 13.6/149.9 MB 2.7 MB/s eta 0:00:51\n",
      "   --- ------------------------------------ 14.4/149.9 MB 2.7 MB/s eta 0:00:50\n",
      "   --- ------------------------------------ 14.9/149.9 MB 2.8 MB/s eta 0:00:49\n",
      "   ---- ----------------------------------- 15.7/149.9 MB 2.8 MB/s eta 0:00:49\n",
      "   ---- ----------------------------------- 16.3/149.9 MB 2.7 MB/s eta 0:00:49\n",
      "   ---- ----------------------------------- 16.8/149.9 MB 2.7 MB/s eta 0:00:49\n",
      "   ---- ----------------------------------- 17.8/149.9 MB 2.8 MB/s eta 0:00:48\n",
      "   ---- ----------------------------------- 18.6/149.9 MB 2.9 MB/s eta 0:00:46\n",
      "   ----- ---------------------------------- 20.2/149.9 MB 3.0 MB/s eta 0:00:44\n",
      "   ----- ---------------------------------- 20.7/149.9 MB 3.0 MB/s eta 0:00:44\n",
      "   ----- ---------------------------------- 21.8/149.9 MB 3.0 MB/s eta 0:00:43\n",
      "   ------ --------------------------------- 22.5/149.9 MB 3.1 MB/s eta 0:00:42\n",
      "   ------ --------------------------------- 23.9/149.9 MB 3.1 MB/s eta 0:00:41\n",
      "   ------ --------------------------------- 24.6/149.9 MB 3.2 MB/s eta 0:00:40\n",
      "   ------ --------------------------------- 26.0/149.9 MB 3.2 MB/s eta 0:00:39\n",
      "   ------- -------------------------------- 27.0/149.9 MB 3.3 MB/s eta 0:00:38\n",
      "   ------- -------------------------------- 27.8/149.9 MB 3.3 MB/s eta 0:00:38\n",
      "   ------- -------------------------------- 28.3/149.9 MB 3.3 MB/s eta 0:00:37\n",
      "   ------- -------------------------------- 29.1/149.9 MB 3.3 MB/s eta 0:00:37\n",
      "   ------- -------------------------------- 29.9/149.9 MB 3.3 MB/s eta 0:00:37\n",
      "   -------- ------------------------------- 30.7/149.9 MB 3.3 MB/s eta 0:00:37\n",
      "   -------- ------------------------------- 31.2/149.9 MB 3.3 MB/s eta 0:00:36\n",
      "   -------- ------------------------------- 31.7/149.9 MB 3.3 MB/s eta 0:00:36\n",
      "   -------- ------------------------------- 31.7/149.9 MB 3.3 MB/s eta 0:00:36\n",
      "   -------- ------------------------------- 31.7/149.9 MB 3.3 MB/s eta 0:00:36\n",
      "   -------- ------------------------------- 31.7/149.9 MB 3.3 MB/s eta 0:00:36\n",
      "   -------- ------------------------------- 33.3/149.9 MB 3.1 MB/s eta 0:00:38\n",
      "   --------- ------------------------------ 34.1/149.9 MB 3.2 MB/s eta 0:00:37\n",
      "   --------- ------------------------------ 34.6/149.9 MB 3.2 MB/s eta 0:00:37\n",
      "   --------- ------------------------------ 35.4/149.9 MB 3.1 MB/s eta 0:00:37\n",
      "   --------- ------------------------------ 36.2/149.9 MB 3.2 MB/s eta 0:00:36\n",
      "   ---------- ----------------------------- 37.5/149.9 MB 3.2 MB/s eta 0:00:35\n",
      "   ---------- ----------------------------- 38.3/149.9 MB 3.2 MB/s eta 0:00:35\n",
      "   ---------- ----------------------------- 39.1/149.9 MB 3.2 MB/s eta 0:00:35\n",
      "   ---------- ----------------------------- 39.8/149.9 MB 3.2 MB/s eta 0:00:34\n",
      "   ---------- ----------------------------- 40.6/149.9 MB 3.3 MB/s eta 0:00:34\n",
      "   ----------- ---------------------------- 41.4/149.9 MB 3.3 MB/s eta 0:00:34\n",
      "   ----------- ---------------------------- 42.7/149.9 MB 3.3 MB/s eta 0:00:33\n",
      "   ----------- ---------------------------- 44.0/149.9 MB 3.3 MB/s eta 0:00:32\n",
      "   ------------ --------------------------- 45.4/149.9 MB 3.4 MB/s eta 0:00:31\n",
      "   ------------ --------------------------- 46.7/149.9 MB 3.4 MB/s eta 0:00:30\n",
      "   ------------ --------------------------- 48.0/149.9 MB 3.5 MB/s eta 0:00:30\n",
      "   ------------- -------------------------- 49.0/149.9 MB 3.5 MB/s eta 0:00:29\n",
      "   ------------- -------------------------- 50.1/149.9 MB 3.5 MB/s eta 0:00:29\n",
      "   ------------- -------------------------- 51.1/149.9 MB 3.5 MB/s eta 0:00:28\n",
      "   ------------- -------------------------- 52.4/149.9 MB 3.6 MB/s eta 0:00:28\n",
      "   -------------- ------------------------- 53.5/149.9 MB 3.6 MB/s eta 0:00:27\n",
      "   -------------- ------------------------- 54.5/149.9 MB 3.6 MB/s eta 0:00:27\n",
      "   -------------- ------------------------- 55.8/149.9 MB 3.6 MB/s eta 0:00:26\n",
      "   --------------- ------------------------ 56.9/149.9 MB 3.7 MB/s eta 0:00:26\n",
      "   --------------- ------------------------ 58.2/149.9 MB 3.7 MB/s eta 0:00:25\n",
      "   --------------- ------------------------ 59.2/149.9 MB 3.7 MB/s eta 0:00:25\n",
      "   ---------------- ----------------------- 60.6/149.9 MB 3.7 MB/s eta 0:00:24\n",
      "   ---------------- ----------------------- 61.9/149.9 MB 3.8 MB/s eta 0:00:24\n",
      "   ---------------- ----------------------- 63.7/149.9 MB 3.8 MB/s eta 0:00:23\n",
      "   ----------------- ---------------------- 65.0/149.9 MB 3.9 MB/s eta 0:00:22\n",
      "   ----------------- ---------------------- 66.1/149.9 MB 3.9 MB/s eta 0:00:22\n",
      "   ----------------- ---------------------- 66.3/149.9 MB 3.8 MB/s eta 0:00:22\n",
      "   ----------------- ---------------------- 66.6/149.9 MB 3.8 MB/s eta 0:00:22\n",
      "   ----------------- ---------------------- 67.1/149.9 MB 3.8 MB/s eta 0:00:22\n",
      "   ------------------ --------------------- 68.2/149.9 MB 3.8 MB/s eta 0:00:22\n",
      "   ------------------ --------------------- 69.2/149.9 MB 3.8 MB/s eta 0:00:22\n",
      "   ------------------ --------------------- 70.3/149.9 MB 3.8 MB/s eta 0:00:21\n",
      "   ------------------- -------------------- 71.3/149.9 MB 3.8 MB/s eta 0:00:21\n",
      "   ------------------- -------------------- 72.1/149.9 MB 3.9 MB/s eta 0:00:21\n",
      "   ------------------- -------------------- 72.1/149.9 MB 3.9 MB/s eta 0:00:21\n",
      "   ------------------- -------------------- 72.4/149.9 MB 3.8 MB/s eta 0:00:21\n",
      "   ------------------- -------------------- 72.4/149.9 MB 3.8 MB/s eta 0:00:21\n",
      "   ------------------- -------------------- 72.4/149.9 MB 3.8 MB/s eta 0:00:21\n",
      "   ------------------- -------------------- 72.6/149.9 MB 3.7 MB/s eta 0:00:21\n",
      "   ------------------- -------------------- 72.9/149.9 MB 3.6 MB/s eta 0:00:22\n",
      "   ------------------- -------------------- 73.1/149.9 MB 3.6 MB/s eta 0:00:22\n",
      "   ------------------- -------------------- 73.9/149.9 MB 3.6 MB/s eta 0:00:22\n",
      "   ------------------- -------------------- 73.9/149.9 MB 3.6 MB/s eta 0:00:22\n",
      "   ------------------- -------------------- 73.9/149.9 MB 3.6 MB/s eta 0:00:22\n",
      "   ------------------- -------------------- 73.9/149.9 MB 3.6 MB/s eta 0:00:22\n",
      "   -------------------- ------------------- 75.2/149.9 MB 3.5 MB/s eta 0:00:22\n",
      "   -------------------- ------------------- 76.0/149.9 MB 3.5 MB/s eta 0:00:21\n",
      "   -------------------- ------------------- 76.8/149.9 MB 3.5 MB/s eta 0:00:21\n",
      "   -------------------- ------------------- 77.9/149.9 MB 3.5 MB/s eta 0:00:21\n",
      "   --------------------- ------------------ 78.9/149.9 MB 3.6 MB/s eta 0:00:20\n",
      "   --------------------- ------------------ 79.4/149.9 MB 3.6 MB/s eta 0:00:20\n",
      "   --------------------- ------------------ 80.0/149.9 MB 3.5 MB/s eta 0:00:20\n",
      "   --------------------- ------------------ 80.0/149.9 MB 3.5 MB/s eta 0:00:20\n",
      "   --------------------- ------------------ 80.7/149.9 MB 3.5 MB/s eta 0:00:20\n",
      "   --------------------- ------------------ 81.3/149.9 MB 3.5 MB/s eta 0:00:20\n",
      "   --------------------- ------------------ 81.5/149.9 MB 3.5 MB/s eta 0:00:20\n",
      "   --------------------- ------------------ 82.3/149.9 MB 3.5 MB/s eta 0:00:20\n",
      "   ---------------------- ----------------- 83.4/149.9 MB 3.5 MB/s eta 0:00:20\n",
      "   ---------------------- ----------------- 83.9/149.9 MB 3.5 MB/s eta 0:00:19\n",
      "   ---------------------- ----------------- 85.2/149.9 MB 3.5 MB/s eta 0:00:19\n",
      "   ----------------------- ---------------- 86.2/149.9 MB 3.5 MB/s eta 0:00:19\n",
      "   ----------------------- ---------------- 87.0/149.9 MB 3.5 MB/s eta 0:00:18\n",
      "   ----------------------- ---------------- 88.3/149.9 MB 3.5 MB/s eta 0:00:18\n",
      "   ----------------------- ---------------- 89.4/149.9 MB 3.6 MB/s eta 0:00:18\n",
      "   ------------------------ --------------- 90.4/149.9 MB 3.6 MB/s eta 0:00:17\n",
      "   ------------------------ --------------- 91.5/149.9 MB 3.6 MB/s eta 0:00:17\n",
      "   ------------------------ --------------- 92.8/149.9 MB 3.6 MB/s eta 0:00:16\n",
      "   ------------------------- -------------- 94.1/149.9 MB 3.6 MB/s eta 0:00:16\n",
      "   ------------------------- -------------- 95.4/149.9 MB 3.6 MB/s eta 0:00:15\n",
      "   ------------------------- -------------- 96.5/149.9 MB 3.6 MB/s eta 0:00:15\n",
      "   ------------------------- -------------- 97.0/149.9 MB 3.6 MB/s eta 0:00:15\n",
      "   ------------------------- -------------- 97.0/149.9 MB 3.6 MB/s eta 0:00:15\n",
      "   -------------------------- ------------- 97.5/149.9 MB 3.6 MB/s eta 0:00:15\n",
      "   -------------------------- ------------- 98.3/149.9 MB 3.6 MB/s eta 0:00:15\n",
      "   -------------------------- ------------- 99.1/149.9 MB 3.6 MB/s eta 0:00:15\n",
      "   -------------------------- ------------- 100.1/149.9 MB 3.6 MB/s eta 0:00:14\n",
      "   -------------------------- ------------- 100.7/149.9 MB 3.6 MB/s eta 0:00:14\n",
      "   --------------------------- ------------ 101.4/149.9 MB 3.6 MB/s eta 0:00:14\n",
      "   --------------------------- ------------ 102.0/149.9 MB 3.6 MB/s eta 0:00:14\n",
      "   --------------------------- ------------ 103.0/149.9 MB 3.6 MB/s eta 0:00:13\n",
      "   --------------------------- ------------ 103.8/149.9 MB 3.6 MB/s eta 0:00:13\n",
      "   --------------------------- ------------ 104.3/149.9 MB 3.6 MB/s eta 0:00:13\n",
      "   ---------------------------- ----------- 105.1/149.9 MB 3.6 MB/s eta 0:00:13\n",
      "   ---------------------------- ----------- 105.9/149.9 MB 3.6 MB/s eta 0:00:13\n",
      "   ---------------------------- ----------- 106.4/149.9 MB 3.6 MB/s eta 0:00:13\n",
      "   ---------------------------- ----------- 107.0/149.9 MB 3.6 MB/s eta 0:00:12\n",
      "   ---------------------------- ----------- 107.7/149.9 MB 3.6 MB/s eta 0:00:12\n",
      "   ---------------------------- ----------- 108.3/149.9 MB 3.6 MB/s eta 0:00:12\n",
      "   ----------------------------- ---------- 109.6/149.9 MB 3.6 MB/s eta 0:00:12\n",
      "   ----------------------------- ---------- 110.9/149.9 MB 3.7 MB/s eta 0:00:11\n",
      "   ----------------------------- ---------- 111.9/149.9 MB 3.7 MB/s eta 0:00:11\n",
      "   ------------------------------ --------- 112.7/149.9 MB 3.7 MB/s eta 0:00:11\n",
      "   ------------------------------ --------- 113.0/149.9 MB 3.7 MB/s eta 0:00:11\n",
      "   ------------------------------ --------- 113.5/149.9 MB 3.7 MB/s eta 0:00:10\n",
      "   ------------------------------ --------- 113.5/149.9 MB 3.7 MB/s eta 0:00:10\n",
      "   ------------------------------ --------- 113.8/149.9 MB 3.6 MB/s eta 0:00:10\n",
      "   ------------------------------ --------- 114.8/149.9 MB 3.6 MB/s eta 0:00:10\n",
      "   ------------------------------ --------- 115.6/149.9 MB 3.6 MB/s eta 0:00:10\n",
      "   ------------------------------- -------- 116.7/149.9 MB 3.6 MB/s eta 0:00:10\n",
      "   ------------------------------- -------- 117.7/149.9 MB 3.7 MB/s eta 0:00:09\n",
      "   ------------------------------- -------- 118.2/149.9 MB 3.7 MB/s eta 0:00:09\n",
      "   ------------------------------- -------- 119.0/149.9 MB 3.7 MB/s eta 0:00:09\n",
      "   ------------------------------- -------- 119.3/149.9 MB 3.7 MB/s eta 0:00:09\n",
      "   ------------------------------- -------- 119.8/149.9 MB 3.7 MB/s eta 0:00:09\n",
      "   -------------------------------- ------- 120.6/149.9 MB 3.7 MB/s eta 0:00:08\n",
      "   -------------------------------- ------- 121.4/149.9 MB 3.7 MB/s eta 0:00:08\n",
      "   -------------------------------- ------- 122.2/149.9 MB 3.7 MB/s eta 0:00:08\n",
      "   -------------------------------- ------- 122.7/149.9 MB 3.7 MB/s eta 0:00:08\n",
      "   -------------------------------- ------- 122.7/149.9 MB 3.7 MB/s eta 0:00:08\n",
      "   -------------------------------- ------- 122.9/149.9 MB 3.6 MB/s eta 0:00:08\n",
      "   -------------------------------- ------- 123.2/149.9 MB 3.6 MB/s eta 0:00:08\n",
      "   -------------------------------- ------- 123.5/149.9 MB 3.6 MB/s eta 0:00:08\n",
      "   -------------------------------- ------- 123.5/149.9 MB 3.6 MB/s eta 0:00:08\n",
      "   --------------------------------- ------ 123.7/149.9 MB 3.6 MB/s eta 0:00:08\n",
      "   --------------------------------- ------ 124.0/149.9 MB 3.6 MB/s eta 0:00:08\n",
      "   --------------------------------- ------ 124.3/149.9 MB 3.6 MB/s eta 0:00:08\n",
      "   --------------------------------- ------ 124.8/149.9 MB 3.5 MB/s eta 0:00:08\n",
      "   --------------------------------- ------ 125.0/149.9 MB 3.5 MB/s eta 0:00:08\n",
      "   --------------------------------- ------ 125.6/149.9 MB 3.5 MB/s eta 0:00:07\n",
      "   --------------------------------- ------ 125.8/149.9 MB 3.5 MB/s eta 0:00:07\n",
      "   --------------------------------- ------ 126.1/149.9 MB 3.5 MB/s eta 0:00:07\n",
      "   --------------------------------- ------ 126.4/149.9 MB 3.4 MB/s eta 0:00:07\n",
      "   --------------------------------- ------ 126.6/149.9 MB 3.4 MB/s eta 0:00:07\n",
      "   --------------------------------- ------ 126.9/149.9 MB 3.4 MB/s eta 0:00:07\n",
      "   --------------------------------- ------ 127.4/149.9 MB 3.3 MB/s eta 0:00:07\n",
      "   --------------------------------- ------ 127.4/149.9 MB 3.3 MB/s eta 0:00:07\n",
      "   ---------------------------------- ----- 127.9/149.9 MB 3.3 MB/s eta 0:00:07\n",
      "   ---------------------------------- ----- 128.2/149.9 MB 3.3 MB/s eta 0:00:07\n",
      "   ---------------------------------- ----- 128.5/149.9 MB 3.3 MB/s eta 0:00:07\n",
      "   ---------------------------------- ----- 128.7/149.9 MB 3.3 MB/s eta 0:00:07\n",
      "   ---------------------------------- ----- 129.0/149.9 MB 3.3 MB/s eta 0:00:07\n",
      "   ---------------------------------- ----- 129.5/149.9 MB 3.3 MB/s eta 0:00:07\n",
      "   ---------------------------------- ----- 129.8/149.9 MB 3.3 MB/s eta 0:00:07\n",
      "   ---------------------------------- ----- 130.3/149.9 MB 3.3 MB/s eta 0:00:06\n",
      "   ---------------------------------- ----- 130.8/149.9 MB 3.3 MB/s eta 0:00:06\n",
      "   ----------------------------------- ---- 131.6/149.9 MB 3.3 MB/s eta 0:00:06\n",
      "   ----------------------------------- ---- 132.4/149.9 MB 3.3 MB/s eta 0:00:06\n",
      "   ----------------------------------- ---- 133.2/149.9 MB 3.3 MB/s eta 0:00:06\n",
      "   ----------------------------------- ---- 134.0/149.9 MB 3.3 MB/s eta 0:00:05\n",
      "   ----------------------------------- ---- 134.2/149.9 MB 3.3 MB/s eta 0:00:05\n",
      "   ----------------------------------- ---- 134.5/149.9 MB 3.2 MB/s eta 0:00:05\n",
      "   ----------------------------------- ---- 134.5/149.9 MB 3.2 MB/s eta 0:00:05\n",
      "   ------------------------------------ --- 135.0/149.9 MB 3.2 MB/s eta 0:00:05\n",
      "   ------------------------------------ --- 135.3/149.9 MB 3.2 MB/s eta 0:00:05\n",
      "   ------------------------------------ --- 135.5/149.9 MB 3.2 MB/s eta 0:00:05\n",
      "   ------------------------------------ --- 135.8/149.9 MB 3.2 MB/s eta 0:00:05\n",
      "   ------------------------------------ --- 136.3/149.9 MB 3.1 MB/s eta 0:00:05\n",
      "   ------------------------------------ --- 136.6/149.9 MB 3.1 MB/s eta 0:00:05\n",
      "   ------------------------------------ --- 136.8/149.9 MB 3.1 MB/s eta 0:00:05\n",
      "   ------------------------------------ --- 137.1/149.9 MB 3.0 MB/s eta 0:00:05\n",
      "   ------------------------------------ --- 137.1/149.9 MB 3.0 MB/s eta 0:00:05\n",
      "   ------------------------------------ --- 137.1/149.9 MB 3.0 MB/s eta 0:00:05\n",
      "   ------------------------------------ --- 137.4/149.9 MB 2.9 MB/s eta 0:00:05\n",
      "   ------------------------------------ --- 137.9/149.9 MB 2.9 MB/s eta 0:00:05\n",
      "   ------------------------------------ --- 138.1/149.9 MB 2.9 MB/s eta 0:00:05\n",
      "   ------------------------------------- -- 138.7/149.9 MB 2.9 MB/s eta 0:00:04\n",
      "   ------------------------------------- -- 139.5/149.9 MB 2.8 MB/s eta 0:00:04\n",
      "   ------------------------------------- -- 140.2/149.9 MB 2.8 MB/s eta 0:00:04\n",
      "   ------------------------------------- -- 140.8/149.9 MB 2.8 MB/s eta 0:00:04\n",
      "   ------------------------------------- -- 141.3/149.9 MB 2.8 MB/s eta 0:00:04\n",
      "   ------------------------------------- -- 141.6/149.9 MB 2.7 MB/s eta 0:00:04\n",
      "   ------------------------------------- -- 141.8/149.9 MB 2.7 MB/s eta 0:00:03\n",
      "   ------------------------------------- -- 142.1/149.9 MB 2.7 MB/s eta 0:00:03\n",
      "   ------------------------------------- -- 142.3/149.9 MB 2.7 MB/s eta 0:00:03\n",
      "   -------------------------------------- - 142.6/149.9 MB 2.6 MB/s eta 0:00:03\n",
      "   -------------------------------------- - 142.9/149.9 MB 2.6 MB/s eta 0:00:03\n",
      "   -------------------------------------- - 143.1/149.9 MB 2.6 MB/s eta 0:00:03\n",
      "   -------------------------------------- - 143.4/149.9 MB 2.6 MB/s eta 0:00:03\n",
      "   -------------------------------------- - 143.7/149.9 MB 2.6 MB/s eta 0:00:03\n",
      "   -------------------------------------- - 144.2/149.9 MB 2.6 MB/s eta 0:00:03\n",
      "   -------------------------------------- - 144.7/149.9 MB 2.5 MB/s eta 0:00:03\n",
      "   -------------------------------------- - 145.0/149.9 MB 2.5 MB/s eta 0:00:02\n",
      "   -------------------------------------- - 145.2/149.9 MB 2.5 MB/s eta 0:00:02\n",
      "   -------------------------------------- - 145.8/149.9 MB 2.5 MB/s eta 0:00:02\n",
      "   ---------------------------------------  146.3/149.9 MB 2.5 MB/s eta 0:00:02\n",
      "   ---------------------------------------  147.3/149.9 MB 2.5 MB/s eta 0:00:02\n",
      "   ---------------------------------------  148.1/149.9 MB 2.6 MB/s eta 0:00:01\n",
      "   ---------------------------------------  148.4/149.9 MB 2.5 MB/s eta 0:00:01\n",
      "   ---------------------------------------  148.6/149.9 MB 2.5 MB/s eta 0:00:01\n",
      "   ---------------------------------------  149.2/149.9 MB 2.5 MB/s eta 0:00:01\n",
      "   ---------------------------------------  149.7/149.9 MB 2.6 MB/s eta 0:00:01\n",
      "   ---------------------------------------- 149.9/149.9 MB 2.5 MB/s eta 0:00:00\n",
      "Installing collected packages: xgboost\n",
      "Successfully installed xgboost-3.0.3\n"
     ]
    }
   ],
   "source": [
    "!pip install xgboost"
   ]
  },
  {
   "cell_type": "code",
   "execution_count": 46,
   "metadata": {
    "scrolled": true
   },
   "outputs": [
    {
     "name": "stdout",
     "output_type": "stream",
     "text": [
      "XGBoost Accuracy is: 99.0909090909091\n",
      "              precision    recall  f1-score   support\n",
      "\n",
      "       apple       1.00      1.00      1.00        13\n",
      "      banana       1.00      1.00      1.00        17\n",
      "   blackgram       1.00      1.00      1.00        16\n",
      "    chickpea       1.00      1.00      1.00        21\n",
      "     coconut       1.00      1.00      1.00        21\n",
      "      coffee       0.96      1.00      0.98        22\n",
      "      cotton       1.00      1.00      1.00        20\n",
      "      grapes       1.00      1.00      1.00        18\n",
      "        jute       0.93      0.96      0.95        28\n",
      " kidneybeans       1.00      1.00      1.00        14\n",
      "      lentil       0.96      1.00      0.98        23\n",
      "       maize       1.00      1.00      1.00        21\n",
      "       mango       1.00      1.00      1.00        26\n",
      "   mothbeans       1.00      0.95      0.97        19\n",
      "    mungbean       1.00      1.00      1.00        24\n",
      "   muskmelon       1.00      1.00      1.00        23\n",
      "      orange       1.00      1.00      1.00        29\n",
      "      papaya       1.00      1.00      1.00        19\n",
      "  pigeonpeas       1.00      1.00      1.00        18\n",
      " pomegranate       1.00      1.00      1.00        17\n",
      "        rice       1.00      0.88      0.93        16\n",
      "  watermelon       1.00      1.00      1.00        15\n",
      "\n",
      "    accuracy                           0.99       440\n",
      "   macro avg       0.99      0.99      0.99       440\n",
      "weighted avg       0.99      0.99      0.99       440\n",
      "\n"
     ]
    }
   ],
   "source": [
    "from sklearn.preprocessing import LabelEncoder\n",
    "\n",
    "# Encode the labels\n",
    "le = LabelEncoder()\n",
    "target_encoded = le.fit_transform(target)\n",
    "Ytrain_encoded = le.fit_transform(Ytrain)\n",
    "Ytest_encoded = le.transform(Ytest)\n",
    "\n",
    "# Train XGBoost\n",
    "import xgboost as xgb\n",
    "XB = xgb.XGBClassifier()\n",
    "XB.fit(Xtrain, Ytrain_encoded)\n",
    "\n",
    "# Predict and evaluate\n",
    "predicted_values = XB.predict(Xtest)\n",
    "x = metrics.accuracy_score(Ytest_encoded, predicted_values)\n",
    "\n",
    "print(\"XGBoost Accuracy is:\", x * 100)\n",
    "\n",
    "from sklearn.metrics import classification_report\n",
    "print(classification_report(Ytest_encoded, predicted_values, target_names=le.classes_))\n"
   ]
  },
  {
   "cell_type": "code",
   "execution_count": 48,
   "metadata": {},
   "outputs": [
    {
     "data": {
      "text/plain": [
       "array([0.99545455, 0.98863636, 0.99545455, 0.99545455, 0.98863636])"
      ]
     },
     "execution_count": 48,
     "metadata": {},
     "output_type": "execute_result"
    }
   ],
   "source": [
    "# Cross validation score (XGBoost)\n",
    "score = cross_val_score(XB,features,target_encoded,cv=5)\n",
    "score"
   ]
  },
  {
   "cell_type": "markdown",
   "metadata": {},
   "source": [
    "### Saving trained XGBoost model"
   ]
  },
  {
   "cell_type": "code",
   "execution_count": 49,
   "metadata": {},
   "outputs": [],
   "source": [
    "import pickle\n",
    "# Dump the trained Naive Bayes classifier with Pickle\n",
    "XB_pkl_filename = '../models/XGBoost.pkl'\n",
    "# Open the file to save as pkl file\n",
    "XB_Model_pkl = open(XB_pkl_filename, 'wb')\n",
    "pickle.dump(XB, XB_Model_pkl)\n",
    "# Close the pickle instances\n",
    "XB_Model_pkl.close()"
   ]
  },
  {
   "cell_type": "markdown",
   "metadata": {},
   "source": [
    "## Accuracy Comparison"
   ]
  },
  {
   "cell_type": "code",
   "execution_count": 50,
   "metadata": {},
   "outputs": [
    {
     "data": {
      "text/plain": [
       "<Axes: title={'center': 'Accuracy Comparison'}, xlabel='Accuracy', ylabel='Algorithm'>"
      ]
     },
     "execution_count": 50,
     "metadata": {},
     "output_type": "execute_result"
    },
    {
     "data": {
      "image/png": "[encoded data removed]",
      "text/plain": [
       "<Figure size 1000x500 with 1 Axes>"
      ]
     },
     "metadata": {},
     "output_type": "display_data"
    }
   ],
   "source": [
    "plt.figure(figsize=[10,5],dpi = 100)\n",
    "plt.title('Accuracy Comparison')\n",
    "plt.xlabel('Accuracy')\n",
    "plt.ylabel('Algorithm')\n",
    "sns.barplot(x = acc,y = model,palette='dark')"
   ]
  },
  {
   "cell_type": "code",
   "execution_count": 51,
   "metadata": {},
   "outputs": [
    {
     "name": "stdout",
     "output_type": "stream",
     "text": [
      "Decision Tree --> 0.9\n",
      "Naive Bayes --> 0.990909090909091\n",
      "SVM --> 0.9795454545454545\n",
      "Logistic Regression --> 0.9522727272727273\n",
      "RF --> 0.990909090909091\n"
     ]
    }
   ],
   "source": [
    "accuracy_models = dict(zip(model, acc))\n",
    "for k, v in accuracy_models.items():\n",
    "    print (k, '-->', v)"
   ]
  },
  {
   "cell_type": "markdown",
   "metadata": {},
   "source": [
    "## Making a prediction"
   ]
  },
  {
   "cell_type": "code",
   "execution_count": 52,
   "metadata": {},
   "outputs": [
    {
     "name": "stdout",
     "output_type": "stream",
     "text": [
      "['coffee']\n"
     ]
    }
   ],
   "source": [
    "data = np.array([[104,18, 30, 23.603016, 60.3, 6.7, 140.91]])\n",
    "prediction = RF.predict(data)\n",
    "print(prediction)"
   ]
  },
  {
   "cell_type": "code",
   "execution_count": 53,
   "metadata": {},
   "outputs": [
    {
     "name": "stdout",
     "output_type": "stream",
     "text": [
      "['jute']\n"
     ]
    }
   ],
   "source": [
    "data = np.array([[83, 45, 60, 28, 70.3, 7.0, 150.9]])\n",
    "prediction = RF.predict(data)\n",
    "print(prediction)"
   ]
  },
  {
   "cell_type": "code",
   "execution_count": 54,
   "metadata": {},
   "outputs": [
    {
     "name": "stdout",
     "output_type": "stream",
     "text": [
      "Stacking Classifier Accuracy: 0.9931818181818182\n",
      "\n",
      "Classification Report:\n",
      "              precision    recall  f1-score   support\n",
      "\n",
      "       apple       1.00      1.00      1.00        13\n",
      "      banana       1.00      1.00      1.00        17\n",
      "   blackgram       1.00      1.00      1.00        16\n",
      "    chickpea       1.00      1.00      1.00        21\n",
      "     coconut       1.00      1.00      1.00        21\n",
      "      coffee       1.00      1.00      1.00        22\n",
      "      cotton       1.00      1.00      1.00        20\n",
      "      grapes       1.00      1.00      1.00        18\n",
      "        jute       0.90      1.00      0.95        28\n",
      " kidneybeans       1.00      1.00      1.00        14\n",
      "      lentil       1.00      1.00      1.00        23\n",
      "       maize       1.00      1.00      1.00        21\n",
      "       mango       1.00      1.00      1.00        26\n",
      "   mothbeans       1.00      1.00      1.00        19\n",
      "    mungbean       1.00      1.00      1.00        24\n",
      "   muskmelon       1.00      1.00      1.00        23\n",
      "      orange       1.00      1.00      1.00        29\n",
      "      papaya       1.00      1.00      1.00        19\n",
      "  pigeonpeas       1.00      1.00      1.00        18\n",
      " pomegranate       1.00      1.00      1.00        17\n",
      "        rice       1.00      0.81      0.90        16\n",
      "  watermelon       1.00      1.00      1.00        15\n",
      "\n",
      "    accuracy                           0.99       440\n",
      "   macro avg       1.00      0.99      0.99       440\n",
      "weighted avg       0.99      0.99      0.99       440\n",
      "\n",
      "\n",
      "Cross Validation Scores: [1.         0.99545455 0.99545455 0.99545455 0.98863636]\n",
      "Mean CV Score: 0.9950000000000001\n",
      "\n",
      "Prediction for sample data: ['coffee']\n",
      "\n",
      "Cross Validation Scores: [1.         0.99545455 0.99545455 0.99545455 0.98863636]\n",
      "Mean CV Score: 0.9950000000000001\n",
      "\n",
      "Prediction for sample data: ['coffee']\n"
     ]
    }
   ],
   "source": [
    "from sklearn.ensemble import StackingClassifier\n",
    "from sklearn.linear_model import LogisticRegression\n",
    "from sklearn.svm import SVC\n",
    "from sklearn.ensemble import RandomForestClassifier\n",
    "from sklearn.naive_bayes import GaussianNB\n",
    "from xgboost import XGBClassifier\n",
    "\n",
    "# Define base models\n",
    "estimators = [\n",
    "    ('rf', RandomForestClassifier(n_estimators=20, random_state=0)),\n",
    "    ('svm', SVC(kernel='poly', degree=3, C=1, probability=True)),\n",
    "    ('nb', GaussianNB()),\n",
    "    ('xgb', XGBClassifier())\n",
    "]\n",
    "\n",
    "# Create stacking classifier\n",
    "stack = StackingClassifier(\n",
    "    estimators=estimators,\n",
    "    final_estimator=LogisticRegression(),\n",
    "    cv=5\n",
    ")\n",
    "\n",
    "# Fit stacking classifier\n",
    "stack.fit(Xtrain, Ytrain)\n",
    "\n",
    "# Make predictions\n",
    "stack_pred = stack.predict(Xtest)\n",
    "\n",
    "# Print results\n",
    "print(\"Stacking Classifier Accuracy:\", metrics.accuracy_score(Ytest, stack_pred))\n",
    "print(\"\\nClassification Report:\")\n",
    "print(classification_report(Ytest, stack_pred))\n",
    "\n",
    "# Cross validation score\n",
    "stack_scores = cross_val_score(stack, features, target, cv=5)\n",
    "print(\"\\nCross Validation Scores:\", stack_scores)\n",
    "print(\"Mean CV Score:\", stack_scores.mean())\n",
    "\n",
    "# Save stacked model\n",
    "import pickle\n",
    "stack_pkl_filename = '../models/StackedModel.pkl'\n",
    "stack_Model_pkl = open(stack_pkl_filename, 'wb')\n",
    "pickle.dump(stack, stack_Model_pkl)\n",
    "stack_Model_pkl.close()\n",
    "\n",
    "# Example prediction\n",
    "data = np.array([[104,18, 30, 23.603016, 60.3, 6.7, 140.91]])\n",
    "prediction = stack.predict(data)\n",
    "print(\"\\nPrediction for sample data:\", prediction)"
   ]
  },
  {
   "cell_type": "code",
   "execution_count": null,
   "metadata": {},
   "outputs": [],
   "source": []
  },
  {
   "cell_type": "code",
   "execution_count": 55,
   "metadata": {},
   "outputs": [],
   "source": [
    "def predict_crop(N, P, K, temperature, humidity, ph, rainfall):\n",
    "    # Create input array\n",
    "    input_data = np.array([[N, P, K, temperature, humidity, ph, rainfall]])\n",
    "    \n",
    "    # Make prediction using stacked model\n",
    "    prediction = stack.predict(input_data)\n",
    "    \n",
    "    # Get probability scores for all classes\n",
    "    probabilities = stack.predict_proba(input_data)\n",
    "    \n",
    "    # Get top 3 predictions with their probabilities\n",
    "    top_3_idx = np.argsort(probabilities[0])[-3:][::-1]\n",
    "    top_3_crops = [stack.classes_[idx] for idx in top_3_idx]\n",
    "    top_3_probs = [probabilities[0][idx] for idx in top_3_idx]\n",
    "    \n",
    "    return {\n",
    "        'recommended_crop': prediction[0],\n",
    "        'top_3_recommendations': list(zip(top_3_crops, top_3_probs))\n",
    "    }"
   ]
  },
  {
   "cell_type": "code",
   "execution_count": null,
   "metadata": {},
   "outputs": [
    {
     "name": "stdout",
     "output_type": "stream",
     "text": [
      "\n",
      "Input Parameters:\n",
      "N: 12.0, P: 58.0, K: 23.0\n",
      "Temperature: 21.74600081°C, Humidity: 63.39503184%\n",
      "pH: 6.765091462000001, Rainfall: 50.43306085 mm\n",
      "Actual Crop in Dataset: apple\n",
      "\n",
      "Predictions:\n",
      "Best Recommended Crop: lentil\n",
      "\n",
      "Top 3 Recommendations with Confidence:\n",
      "lentil: 97.71%\n",
      "mothbeans: 0.14%\n",
      "blackgram: 0.14%\n",
      "--------------------------------------------------\n",
      "\n",
      "Input Parameters:\n",
      "N: 82.0, P: 25.0, K: 51.0\n",
      "Temperature: 24.31334971°C, Humidity: 87.47409052%\n",
      "pH: 6.074209622000001, Rainfall: 48.11248366 mm\n",
      "Actual Crop in Dataset: mothbeans\n",
      "\n",
      "Predictions:\n",
      "Best Recommended Crop: watermelon\n",
      "\n",
      "Top 3 Recommendations with Confidence:\n",
      "watermelon: 97.73%\n",
      "jute: 0.13%\n",
      "rice: 0.13%\n",
      "--------------------------------------------------\n",
      "\n",
      "Input Parameters:\n",
      "N: 27.0, P: 43.0, K: 23.0\n",
      "Temperature: 31.70447482°C, Humidity: 56.85420099%\n",
      "pH: 5.875333778, Rainfall: 44.94317432 mm\n",
      "Actual Crop in Dataset: maize\n",
      "\n",
      "Predictions:\n",
      "Best Recommended Crop: mothbeans\n",
      "\n",
      "Top 3 Recommendations with Confidence:\n",
      "mothbeans: 98.50%\n",
      "lentil: 0.17%\n",
      "pigeonpeas: 0.08%\n",
      "--------------------------------------------------\n"
     ]
    }
   ],
   "source": [
    "# Get sample inputs from the dataset\n",
    "sample_data = pd.read_csv(r'../Dataset/crop_recommendation.csv')\n",
    "# Take 3 random samples from different crops\n",
    "sample_inputs = sample_data.sample(n=3)[['N', 'P', 'K', 'temperature', 'humidity', 'ph', 'rainfall']].values\n",
    "true_labels = sample_data.sample(n=3)['label'].values\n",
    "\n",
    "for i, inputs in enumerate(sample_inputs):\n",
    "    result = predict_crop(*inputs)\n",
    "    print(\"\\nInput Parameters:\")\n",
    "    print(f\"N: {inputs[0]}, P: {inputs[1]}, K: {inputs[2]}\")\n",
    "    print(f\"Temperature: {inputs[3]}°C, Humidity: {inputs[4]}%\")\n",
    "    print(f\"pH: {inputs[5]}, Rainfall: {inputs[6]} mm\")\n",
    "    print(f\"Actual Crop in Dataset: {true_labels[i]}\")\n",
    "    print(\"\\nPredictions:\")\n",
    "    print(f\"Best Recommended Crop: {result['recommended_crop']}\")\n",
    "    print(\"\\nTop 3 Recommendations with Confidence:\")\n",
    "    for crop, prob in result['top_3_recommendations']:\n",
    "        print(f\"{crop}: {prob*100:.2f}%\")\n",
    "    print(\"-\" * 50)"
   ]
  },
  {
   "cell_type": "code",
   "execution_count": null,
   "metadata": {},
   "outputs": [],
   "source": [
    "# Interactive prediction\n",
    "def get_user_input():\n",
    "    print(\"Enter the following details:\")\n",
    "    N = float(input(\"Nitrogen content in soil (N) [0-140]: \"))\n",
    "    P = float(input(\"Phosphorus content in soil (P) [0-145]: \"))\n",
    "    K = float(input(\"Potassium content in soil (K) [0-205]: \"))\n",
    "    temperature = float(input(\"Temperature in Celsius [0-45]: \"))\n",
    "    humidity = float(input(\"Humidity in % [0-100]: \"))\n",
    "    ph = float(input(\"pH value of soil [0-14]: \"))\n",
    "    rainfall = float(input(\"Rainfall in mm [0-300]: \"))\n",
    "    return N, P, K, temperature, humidity, ph, rainfall\n",
    "\n",
    "# Get prediction for user input\n",
    "try:\n",
    "    inputs = get_user_input()\n",
    "    result = predict_crop(*inputs)\n",
    "    print(\"\\nPredictions:\")\n",
    "    print(f\"Best Recommended Crop: {result['recommended_crop']}\")\n",
    "    print(\"\\nTop 3 Recommendations with Confidence:\")\n",
    "    for crop, prob in result['top_3_recommendations']:\n",
    "        print(f\"{crop}: {prob*100:.2f}%\")\n",
    "except Exception as e:\n",
    "    print(\"Error:\", str(e))\n",
    "    print(\"Please ensure all inputs are valid numbers within the specified ranges.\")"
   ]
  }
 ],
 "metadata": {
  "kernelspec": {
   "display_name": "base",
   "language": "python",
   "name": "python3"
  },
  "language_info": {
   "codemirror_mode": {
    "name": "ipython",
    "version": 3
   },
   "file_extension": ".py",
   "mimetype": "text/x-python",
   "name": "python",
   "nbconvert_exporter": "python",
   "pygments_lexer": "ipython3",
   "version": "3.12.7"
  }
 },
 "nbformat": 4,
 "nbformat_minor": 4
}
